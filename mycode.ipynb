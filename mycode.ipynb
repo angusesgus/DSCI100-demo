{
 "cells": [
  {
   "cell_type": "code",
   "execution_count": 1,
   "id": "bb1ae73d-ddb7-4963-b7eb-9773559ab817",
   "metadata": {},
   "outputs": [
    {
     "name": "stdout",
     "output_type": "stream",
     "text": [
      "[1] \"Hello world!\"\n"
     ]
    }
   ],
   "source": [
    "# sample code\n",
    "print(\"Hello world!\")"
   ]
  },
  {
   "cell_type": "code",
   "execution_count": 2,
   "id": "5dff427b-90f7-4ec0-b0c9-52407f820195",
   "metadata": {},
   "outputs": [
    {
     "data": {
      "text/html": [
       "6"
      ],
      "text/latex": [
       "6"
      ],
      "text/markdown": [
       "6"
      ],
      "text/plain": [
       "[1] 6"
      ]
     },
     "metadata": {},
     "output_type": "display_data"
    }
   ],
   "source": [
    "1+5"
   ]
  },
  {
   "cell_type": "code",
   "execution_count": null,
   "id": "22d71f4a-db72-4f6a-b1e0-df822bf3729a",
   "metadata": {},
   "outputs": [],
   "source": [
    "print(\"1234567890\")"
   ]
  }
 ],
 "metadata": {
  "kernelspec": {
   "display_name": "R",
   "language": "R",
   "name": "ir"
  },
  "language_info": {
   "codemirror_mode": "r",
   "file_extension": ".r",
   "mimetype": "text/x-r-source",
   "name": "R",
   "pygments_lexer": "r",
   "version": "4.3.3"
  }
 },
 "nbformat": 4,
 "nbformat_minor": 5
}
